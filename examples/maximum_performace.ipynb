{
 "cells": [
  {
   "cell_type": "code",
   "execution_count": 1,
   "metadata": {},
   "outputs": [
    {
     "name": "stdout",
     "output_type": "stream",
     "text": [
      "Requirement already satisfied: grakel in /Users/shoki/.pyenv/versions/3.7.5/lib/python3.7/site-packages (0.1.8)\n",
      "Requirement already satisfied: numpy>=1.14.0 in /Users/shoki/.pyenv/versions/3.7.5/lib/python3.7/site-packages (from grakel) (1.21.5)\n",
      "Requirement already satisfied: scikit-learn>=0.19 in /Users/shoki/.pyenv/versions/3.7.5/lib/python3.7/site-packages (from grakel) (1.0.1)\n",
      "Requirement already satisfied: cython>=0.27.3 in /Users/shoki/.pyenv/versions/3.7.5/lib/python3.7/site-packages (from grakel) (0.29.24)\n",
      "Requirement already satisfied: six>=1.11.0 in /Users/shoki/.pyenv/versions/3.7.5/lib/python3.7/site-packages (from grakel) (1.16.0)\n",
      "Requirement already satisfied: future>=0.16.0 in /Users/shoki/.pyenv/versions/3.7.5/lib/python3.7/site-packages (from grakel) (0.18.2)\n",
      "Requirement already satisfied: nose>=1.1.2 in /Users/shoki/.pyenv/versions/3.7.5/lib/python3.7/site-packages (from grakel) (1.3.7)\n",
      "Requirement already satisfied: joblib in /Users/shoki/.pyenv/versions/3.7.5/lib/python3.7/site-packages (from grakel) (1.1.0)\n",
      "Requirement already satisfied: scipy>=1.1.0 in /Users/shoki/.pyenv/versions/3.7.5/lib/python3.7/site-packages (from scikit-learn>=0.19->grakel) (1.4.1)\n",
      "Requirement already satisfied: threadpoolctl>=2.0.0 in /Users/shoki/.pyenv/versions/3.7.5/lib/python3.7/site-packages (from scikit-learn>=0.19->grakel) (3.0.0)\n",
      "\u001b[33mWARNING: You are using pip version 22.0.3; however, version 22.1.2 is available.\n",
      "You should consider upgrading via the '/Users/shoki/.pyenv/versions/3.7.5/bin/python3.7 -m pip install --upgrade pip' command.\u001b[0m\u001b[33m\n",
      "\u001b[0mRequirement already satisfied: POT in /Users/shoki/.pyenv/versions/3.7.5/lib/python3.7/site-packages (0.8.0)\n",
      "Requirement already satisfied: scipy>=1.0 in /Users/shoki/.pyenv/versions/3.7.5/lib/python3.7/site-packages (from POT) (1.4.1)\n",
      "Requirement already satisfied: numpy>=1.16 in /Users/shoki/.pyenv/versions/3.7.5/lib/python3.7/site-packages (from POT) (1.21.5)\n",
      "\u001b[33mWARNING: You are using pip version 22.0.3; however, version 22.1.2 is available.\n",
      "You should consider upgrading via the '/Users/shoki/.pyenv/versions/3.7.5/bin/python3.7 -m pip install --upgrade pip' command.\u001b[0m\u001b[33m\n",
      "\u001b[0mRequirement already satisfied: tqdm in /Users/shoki/.pyenv/versions/3.7.5/lib/python3.7/site-packages (4.62.3)\n",
      "\u001b[33mWARNING: You are using pip version 22.0.3; however, version 22.1.2 is available.\n",
      "You should consider upgrading via the '/Users/shoki/.pyenv/versions/3.7.5/bin/python3.7 -m pip install --upgrade pip' command.\u001b[0m\u001b[33m\n",
      "\u001b[0m"
     ]
    }
   ],
   "source": [
    "!pip install grakel\n",
    "!pip install POT\n",
    "!pip install tqdm"
   ]
  },
  {
   "cell_type": "code",
   "execution_count": 2,
   "metadata": {},
   "outputs": [],
   "source": [
    "from tqdm import tqdm\n",
    "from data_generator import data_generator\n",
    "from sklearn.svm import SVC\n",
    "from sklearn.metrics import accuracy_score\n",
    "from sklearn.model_selection import StratifiedKFold\n",
    "\n",
    "import os\n",
    "import sys\n",
    "import numpy as np"
   ]
  },
  {
   "cell_type": "code",
   "execution_count": 3,
   "metadata": {},
   "outputs": [],
   "source": [
    "\"\"\" A function to ensure gram matrix is psd \"\"\"\n",
    "def ensure_psd(K, tol=1e-8):\n",
    "    # Helper function to remove negative eigenvalues\n",
    "    # from numpy.linalg import eigh\n",
    "    w, v = np.linalg.eigh(K)\n",
    "    if (w<-tol).sum() >= 1:\n",
    "        neg = np.argwhere(w<-tol)\n",
    "        w[neg] = 0\n",
    "        Xp = v.dot(np.diag(w)).dot(v.T)\n",
    "        return Xp\n",
    "    else:\n",
    "        return K\n",
    "\n",
    "\n",
    "def evaluate_maximum_performance(D, y, distance_method=False, Krein=False):\n",
    "        sfolder = StratifiedKFold(n_splits=10, shuffle=True)\n",
    "        mean_accuracies = []\n",
    "        for i in range(10): # 10 times\n",
    "            accuracy_scores = []\n",
    "            for train_index, test_index in sfolder.split(D, y): # 10-fold\n",
    "                best_acc =0\n",
    "                Gram_list = []\n",
    "                if distance_method == True:\n",
    "                    # gamma_list\n",
    "                    for gamma in [1, 0.1, 0.01, 0.001, 0.0001]:\n",
    "                        Gram_list.append(np.exp(-gamma*D))\n",
    "                else:\n",
    "                    Gram_list.append(D)\n",
    "                \n",
    "                for Gram in Gram_list:\n",
    "                    X_train, y_train, X_test, y_test = data_generator(y, Gram, train_index, test_index)\n",
    "                    if Krein == True:\n",
    "                        X_train = ensure_psd(X_train)\n",
    "                    for c in [0.1, 1, 10, 100, 1000]:\n",
    "                        gs = SVC(C=c, kernel='precomputed').fit(X_train, y_train)\n",
    "                        y_pred = gs.predict(X_test)\n",
    "                        acc = accuracy_score(y_test, y_pred)\n",
    "                        if acc > best_acc:\n",
    "                            best_acc = acc\n",
    "                accuracy_scores.append(best_acc)\n",
    "\n",
    "            mean_accuracies.append(np.mean(accuracy_scores))\n",
    "        \n",
    "        mean_acc = np.mean(mean_accuracies) * 100\n",
    "        std = np.std(mean_accuracies) * 100\n",
    "        print('Accuracy: {:2.2f} +- {:2.2f}'.format(mean_acc, std))\n",
    "        return mean_acc, std"
   ]
  },
  {
   "cell_type": "code",
   "execution_count": 4,
   "metadata": {},
   "outputs": [],
   "source": [
    "# seed\n",
    "np.random.seed(seed=42)\n",
    "# number of WL iteration\n",
    "h = 7\n",
    "# dataset\n",
    "d_name = \"MUTAG\""
   ]
  },
  {
   "cell_type": "markdown",
   "metadata": {},
   "source": [
    "# WL subtree kernel"
   ]
  },
  {
   "cell_type": "code",
   "execution_count": 5,
   "metadata": {},
   "outputs": [
    {
     "name": "stdout",
     "output_type": "stream",
     "text": [
      "WL iteration 1. Accuracy: 88.87 +- 0.85\n",
      "WL iteration 2. Accuracy: 87.45 +- 1.07\n",
      "WL iteration 3. Accuracy: 88.49 +- 1.26\n",
      "WL iteration 4. Accuracy: 86.87 +- 1.10\n",
      "WL iteration 5. Accuracy: 86.71 +- 1.26\n",
      "WL iteration 6. Accuracy: 85.67 +- 1.14\n",
      "WL iteration 7. Accuracy: 86.51 +- 1.00\n"
     ]
    }
   ],
   "source": [
    "from Kernels.WL import WLkernel\n",
    "from grakel.datasets import fetch_dataset\n",
    "\n",
    "dataset = fetch_dataset(d_name, verbose=False)\n",
    "G, y = dataset.data, dataset.target\n",
    "WL_mean_acc_list = []\n",
    "WL_std_list =[]\n",
    "\n",
    "for current_h in range(1, h+1):\n",
    "    wlk = WLkernel(current_h)\n",
    "    D = wlk.fit_transform(G)\n",
    "    print(f\"WL iteration {current_h}. \", end='')\n",
    "    mean_acc, std = evaluate_maximum_performance(D, y)\n",
    "    WL_mean_acc_list.append(mean_acc)\n",
    "    WL_std_list.append(std)"
   ]
  },
  {
   "cell_type": "markdown",
   "metadata": {},
   "source": [
    "# WWL kernel"
   ]
  },
  {
   "cell_type": "code",
   "execution_count": 6,
   "metadata": {},
   "outputs": [
    {
     "name": "stdout",
     "output_type": "stream",
     "text": [
      "Iteration 0: done.\n",
      "Iteration 1: done.\n",
      "Iteration 2: done.\n",
      "Iteration 3: done.\n",
      "Iteration 4: done.\n",
      "Iteration 5: done.\n",
      "Iteration 6: done.\n",
      "Iteration 7: done.\n",
      "WL iteration 1. Accuracy: 90.73 +- 0.93\n",
      "WL iteration 2. Accuracy: 89.36 +- 0.87\n",
      "WL iteration 3. Accuracy: 88.87 +- 0.79\n",
      "WL iteration 4. Accuracy: 88.85 +- 0.58\n",
      "WL iteration 5. Accuracy: 87.80 +- 1.12\n",
      "WL iteration 6. Accuracy: 88.26 +- 1.06\n",
      "WL iteration 7. Accuracy: 87.68 +- 0.97\n"
     ]
    }
   ],
   "source": [
    "from Kernels.WWL import *\n",
    "from Kernels.utilities import read_labels\n",
    "\n",
    "data_path = os.path.join(\"./Kernels/data_for_WWL\", d_name)\n",
    "label_sequences = compute_wl_embeddings_discrete(data_path, h)\n",
    "wasserstein_distances = compute_wasserstein_distance(label_sequences, h, sinkhorn=False, discrete=True)\n",
    "label_file = os.path.join(data_path, \"Labels.txt\")\n",
    "y = np.array(read_labels(label_file))\n",
    "WWL_mean_acc_list = []\n",
    "WWL_std_list =[]\n",
    "\n",
    "for current_h in range(1, h+1):\n",
    "    D = wasserstein_distances[current_h]\n",
    "    print(f\"WL iteration {current_h}. \", end='')\n",
    "    mean_acc, std = evaluate_maximum_performance(D, y, distance_method=True)\n",
    "    WWL_mean_acc_list.append(mean_acc)\n",
    "    WWL_std_list.append(std)"
   ]
  },
  {
   "cell_type": "markdown",
   "metadata": {},
   "source": [
    "# WWLS kernel (Ours)"
   ]
  },
  {
   "cell_type": "code",
   "execution_count": 7,
   "metadata": {},
   "outputs": [
    {
     "name": "stderr",
     "output_type": "stream",
     "text": [
      "Building WL subtrees: 100%|█████████████████| 188/188 [00:00<00:00, 2685.76it/s]\n",
      "Converting to sparse graph features: 100%|██| 188/188 [00:00<00:00, 8409.36it/s]\n",
      "Computing graph Wasserstein distances: 100%|█| 17578/17578 [00:21<00:00, 821.16i\n"
     ]
    },
    {
     "name": "stdout",
     "output_type": "stream",
     "text": [
      "WL iteration 1. Accuracy: 92.24 +- 0.63\n"
     ]
    },
    {
     "name": "stderr",
     "output_type": "stream",
     "text": [
      "Building WL subtrees: 100%|█████████████████| 188/188 [00:00<00:00, 2029.10it/s]\n",
      "Converting to sparse graph features: 100%|██| 188/188 [00:00<00:00, 3925.34it/s]\n",
      "Computing graph Wasserstein distances: 100%|█| 17578/17578 [00:19<00:00, 882.59i\n"
     ]
    },
    {
     "name": "stdout",
     "output_type": "stream",
     "text": [
      "WL iteration 2. Accuracy: 91.50 +- 0.79\n"
     ]
    },
    {
     "name": "stderr",
     "output_type": "stream",
     "text": [
      "Building WL subtrees: 100%|█████████████████| 188/188 [00:00<00:00, 2097.55it/s]\n",
      "Converting to sparse graph features: 100%|██| 188/188 [00:00<00:00, 6903.42it/s]\n",
      "Computing graph Wasserstein distances: 100%|█| 17578/17578 [00:17<00:00, 984.74i\n"
     ]
    },
    {
     "name": "stdout",
     "output_type": "stream",
     "text": [
      "WL iteration 3. Accuracy: 92.41 +- 0.62\n"
     ]
    },
    {
     "name": "stderr",
     "output_type": "stream",
     "text": [
      "Building WL subtrees: 100%|██████████████████| 188/188 [00:00<00:00, 970.61it/s]\n",
      "Converting to sparse graph features: 100%|██| 188/188 [00:00<00:00, 5329.27it/s]\n",
      "Computing graph Wasserstein distances: 100%|█| 17578/17578 [00:20<00:00, 876.39i\n"
     ]
    },
    {
     "name": "stdout",
     "output_type": "stream",
     "text": [
      "WL iteration 4. Accuracy: 91.34 +- 0.78\n"
     ]
    },
    {
     "name": "stderr",
     "output_type": "stream",
     "text": [
      "Building WL subtrees: 100%|██████████████████| 188/188 [00:00<00:00, 845.31it/s]\n",
      "Converting to sparse graph features: 100%|██| 188/188 [00:00<00:00, 4922.25it/s]\n",
      "Computing graph Wasserstein distances: 100%|█| 17578/17578 [00:22<00:00, 767.95i\n"
     ]
    },
    {
     "name": "stdout",
     "output_type": "stream",
     "text": [
      "WL iteration 5. Accuracy: 91.39 +- 0.94\n"
     ]
    },
    {
     "name": "stderr",
     "output_type": "stream",
     "text": [
      "Building WL subtrees: 100%|██████████████████| 188/188 [00:00<00:00, 395.03it/s]\n",
      "Converting to sparse graph features: 100%|██| 188/188 [00:00<00:00, 3850.71it/s]\n",
      "Computing graph Wasserstein distances: 100%|█| 17578/17578 [00:21<00:00, 824.23i\n"
     ]
    },
    {
     "name": "stdout",
     "output_type": "stream",
     "text": [
      "WL iteration 6. Accuracy: 90.20 +- 0.56\n"
     ]
    },
    {
     "name": "stderr",
     "output_type": "stream",
     "text": [
      "Building WL subtrees: 100%|██████████████████| 188/188 [00:01<00:00, 168.05it/s]\n",
      "Converting to sparse graph features: 100%|██| 188/188 [00:00<00:00, 2979.21it/s]\n",
      "Computing graph Wasserstein distances: 100%|█| 17578/17578 [00:22<00:00, 765.72i\n"
     ]
    },
    {
     "name": "stdout",
     "output_type": "stream",
     "text": [
      "WL iteration 7. Accuracy: 90.98 +- 0.72\n"
     ]
    }
   ],
   "source": [
    "sys.path.append(\"../WWLS\")\n",
    "from WWLS import WWLS\n",
    "from dataset_loader import load_dataset\n",
    "from graph_data import Graph\n",
    "\n",
    "dataset = load_dataset(d_name)\n",
    "graphs = [Graph(data) for data in dataset]\n",
    "y = [graph.y for graph in graphs]\n",
    "WWLS_mean_acc_list = []\n",
    "WWLS_std_list =[]\n",
    "\n",
    "for current_h in range(1, h+1):\n",
    "    wwls = WWLS(current_h)\n",
    "    # graph level features\n",
    "    gf = [wwls.embedding(i, graph) for i, graph in enumerate(tqdm(graphs, desc='Building WL subtrees'))] \n",
    "    sparse_gf = wwls.to_sparse(gf)\n",
    "    D = wwls.compute_distance_matrices(sparse_gf, len(y))\n",
    "    print(f\"WL iteration {current_h}. \", end='')\n",
    "    mean_acc, std = evaluate_maximum_performance(D, y, distance_method=True)\n",
    "    WWLS_mean_acc_list.append(mean_acc)\n",
    "    WWLS_std_list.append(std)"
   ]
  },
  {
   "cell_type": "markdown",
   "metadata": {},
   "source": [
    "# Visualize results"
   ]
  },
  {
   "cell_type": "code",
   "execution_count": 8,
   "metadata": {},
   "outputs": [
    {
     "data": {
      "image/png": "[encoded data removed]",
      "text/plain": [
       "<Figure size 432x288 with 1 Axes>"
      ]
     },
     "metadata": {
      "needs_background": "light"
     },
     "output_type": "display_data"
    }
   ],
   "source": [
    "\n",
    "import seaborn as sns\n",
    "import matplotlib.pyplot as plt\n",
    "\n",
    "fig, ax = plt.subplots()\n",
    "clrs = sns.color_palette(\"husl\", 3)\n",
    "\n",
    "mean_list = [WWLS_mean_acc_list, WWL_mean_acc_list, WL_mean_acc_list]\n",
    "std_lit = [WWLS_std_list, WL_std_list, WWL_std_list]\n",
    "label_list = [\"WWLS\", \"WWL\", \"WL\"]\n",
    "\n",
    "with sns.axes_style(\"darkgrid\"):\n",
    "    WL_iterations = list(range(1,h+1))\n",
    "    for i in range(3):\n",
    "        x = np.array(mean_list[i])\n",
    "        std = np.array(std_lit[i])\n",
    "        ax.plot(WL_iterations, x, label=label_list[i], color=clrs[i])\n",
    "        ax.fill_between(WL_iterations, x-std, x+std ,alpha=0.3, facecolor=clrs[i])\n",
    "    ax.legend()\n"
   ]
  },
  {
   "cell_type": "code",
   "execution_count": null,
   "metadata": {},
   "outputs": [],
   "source": []
  }
 ],
 "metadata": {
  "interpreter": {
   "hash": "e277dd7ad831b1ec8a9e9ff75e89463f95c109f221f84ed433f5f3ddb9624ff8"
  },
  "kernelspec": {
   "display_name": "Python 3 (ipykernel)",
   "language": "python",
   "name": "python3"
  },
  "language_info": {
   "codemirror_mode": {
    "name": "ipython",
    "version": 3
   },
   "file_extension": ".py",
   "mimetype": "text/x-python",
   "name": "python",
   "nbconvert_exporter": "python",
   "pygments_lexer": "ipython3",
   "version": "3.7.5"
  }
 },
 "nbformat": 4,
 "nbformat_minor": 4
}
