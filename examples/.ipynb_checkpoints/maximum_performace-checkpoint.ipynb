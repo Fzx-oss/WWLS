{
 "cells": [
  {
   "cell_type": "code",
   "execution_count": 1,
   "metadata": {},
   "outputs": [
    {
     "name": "stdout",
     "output_type": "stream",
     "text": [
      "Requirement already satisfied: grakel in /Users/shoki/.pyenv/versions/3.7.5/lib/python3.7/site-packages (0.1.8)\n",
      "Requirement already satisfied: joblib in /Users/shoki/.pyenv/versions/3.7.5/lib/python3.7/site-packages (from grakel) (1.1.0)\n",
      "Requirement already satisfied: nose>=1.1.2 in /Users/shoki/.pyenv/versions/3.7.5/lib/python3.7/site-packages (from grakel) (1.3.7)\n",
      "Requirement already satisfied: future>=0.16.0 in /Users/shoki/.pyenv/versions/3.7.5/lib/python3.7/site-packages (from grakel) (0.18.2)\n",
      "Requirement already satisfied: six>=1.11.0 in /Users/shoki/.pyenv/versions/3.7.5/lib/python3.7/site-packages (from grakel) (1.16.0)\n",
      "Requirement already satisfied: numpy>=1.14.0 in /Users/shoki/.pyenv/versions/3.7.5/lib/python3.7/site-packages (from grakel) (1.21.5)\n",
      "Requirement already satisfied: cython>=0.27.3 in /Users/shoki/.pyenv/versions/3.7.5/lib/python3.7/site-packages (from grakel) (0.29.24)\n",
      "Requirement already satisfied: scikit-learn>=0.19 in /Users/shoki/.pyenv/versions/3.7.5/lib/python3.7/site-packages (from grakel) (1.0.1)\n",
      "Requirement already satisfied: scipy>=1.1.0 in /Users/shoki/.pyenv/versions/3.7.5/lib/python3.7/site-packages (from scikit-learn>=0.19->grakel) (1.4.1)\n",
      "Requirement already satisfied: threadpoolctl>=2.0.0 in /Users/shoki/.pyenv/versions/3.7.5/lib/python3.7/site-packages (from scikit-learn>=0.19->grakel) (3.0.0)\n",
      "\u001b[33mWARNING: You are using pip version 22.0.3; however, version 22.1.2 is available.\n",
      "You should consider upgrading via the '/Users/shoki/.pyenv/versions/3.7.5/bin/python3.7 -m pip install --upgrade pip' command.\u001b[0m\u001b[33m\n",
      "\u001b[0mRequirement already satisfied: POT in /Users/shoki/.pyenv/versions/3.7.5/lib/python3.7/site-packages (0.8.0)\n",
      "Requirement already satisfied: scipy>=1.0 in /Users/shoki/.pyenv/versions/3.7.5/lib/python3.7/site-packages (from POT) (1.4.1)\n",
      "Requirement already satisfied: numpy>=1.16 in /Users/shoki/.pyenv/versions/3.7.5/lib/python3.7/site-packages (from POT) (1.21.5)\n",
      "\u001b[33mWARNING: You are using pip version 22.0.3; however, version 22.1.2 is available.\n",
      "You should consider upgrading via the '/Users/shoki/.pyenv/versions/3.7.5/bin/python3.7 -m pip install --upgrade pip' command.\u001b[0m\u001b[33m\n",
      "\u001b[0mRequirement already satisfied: tqdm in /Users/shoki/.pyenv/versions/3.7.5/lib/python3.7/site-packages (4.62.3)\n",
      "\u001b[33mWARNING: You are using pip version 22.0.3; however, version 22.1.2 is available.\n",
      "You should consider upgrading via the '/Users/shoki/.pyenv/versions/3.7.5/bin/python3.7 -m pip install --upgrade pip' command.\u001b[0m\u001b[33m\n",
      "\u001b[0m"
     ]
    }
   ],
   "source": [
    "!pip install grakel\n",
    "!pip install POT\n",
    "!pip install tqdm"
   ]
  },
  {
   "cell_type": "code",
   "execution_count": 2,
   "metadata": {},
   "outputs": [],
   "source": [
    "from tqdm import tqdm\n",
    "from data_generator import data_generator\n",
    "from sklearn.svm import SVC\n",
    "from sklearn.metrics import accuracy_score\n",
    "from sklearn.model_selection import StratifiedKFold\n",
    "\n",
    "import os\n",
    "import sys\n",
    "import numpy as np"
   ]
  },
  {
   "cell_type": "code",
   "execution_count": 3,
   "metadata": {},
   "outputs": [],
   "source": [
    "\"\"\" A function to ensure gram matrix is psd \"\"\"\n",
    "def ensure_psd(K, tol=1e-8):\n",
    "    # Helper function to remove negative eigenvalues\n",
    "    # from numpy.linalg import eigh\n",
    "    w, v = np.linalg.eigh(K)\n",
    "    if (w<-tol).sum() >= 1:\n",
    "        neg = np.argwhere(w<-tol)\n",
    "        w[neg] = 0\n",
    "        Xp = v.dot(np.diag(w)).dot(v.T)\n",
    "        return Xp\n",
    "    else:\n",
    "        return K\n",
    "\n",
    "\n",
    "def evaluate_maximum_performance(D, y, distance_method=False, Krein=False):\n",
    "        sfolder = StratifiedKFold(n_splits=10, shuffle=True)\n",
    "        mean_accuracies = []\n",
    "        for i in range(10): # 10 times\n",
    "            accuracy_scores = []\n",
    "            for train_index, test_index in sfolder.split(D, y): # 10-fold\n",
    "                best_acc =0\n",
    "                Gram_list = []\n",
    "                if distance_method == True:\n",
    "                    # gamma_list\n",
    "                    for gamma in [1, 0.1, 0.01, 0.001, 0.0001]:\n",
    "                        Gram_list.append(np.exp(-gamma*D))\n",
    "                else:\n",
    "                    Gram_list.append(D)\n",
    "                \n",
    "                for Gram in Gram_list:\n",
    "                    X_train, y_train, X_test, y_test = data_generator(y, Gram, train_index, test_index)\n",
    "                    if Krein == True:\n",
    "                        X_train = ensure_psd(X_train)\n",
    "                    for c in [0.1, 1, 10, 100, 1000]:\n",
    "                        gs = SVC(C=c, kernel='precomputed').fit(X_train, y_train)\n",
    "                        y_pred = gs.predict(X_test)\n",
    "                        acc = accuracy_score(y_test, y_pred)\n",
    "                        if acc > best_acc:\n",
    "                            best_acc = acc\n",
    "                accuracy_scores.append(best_acc)\n",
    "\n",
    "            mean_accuracies.append(np.mean(accuracy_scores))\n",
    "        \n",
    "        mean_acc = np.mean(mean_accuracies) * 100\n",
    "        std = np.std(mean_accuracies) * 100\n",
    "        print('Accuracy: {:2.2f} +- {:2.2f}'.format(mean_acc, std))\n",
    "        return mean_acc, std"
   ]
  },
  {
   "cell_type": "code",
   "execution_count": 4,
   "metadata": {},
   "outputs": [],
   "source": [
    "# seed\n",
    "np.random.seed(seed=42)\n",
    "# number of WL iteration\n",
    "h = 7\n",
    "# dataset\n",
    "d_name = \"MUTAG\""
   ]
  },
  {
   "cell_type": "markdown",
   "metadata": {},
   "source": [
    "# WL subtree kernel"
   ]
  },
  {
   "cell_type": "code",
   "execution_count": 7,
   "metadata": {},
   "outputs": [
    {
     "name": "stdout",
     "output_type": "stream",
     "text": [
      "WL iteration 1. Accuracy: 89.32 +- 0.80\n",
      "WL iteration 2. Accuracy: 87.56 +- 0.77\n",
      "WL iteration 3. Accuracy: 88.34 +- 1.36\n",
      "WL iteration 4. Accuracy: 86.85 +- 0.91\n",
      "WL iteration 5. Accuracy: 86.63 +- 0.84\n",
      "WL iteration 6. Accuracy: 85.37 +- 1.36\n",
      "WL iteration 7. Accuracy: 86.04 +- 0.79\n"
     ]
    }
   ],
   "source": [
    "from Kernels.WL import WLkernel\n",
    "from grakel.datasets import fetch_dataset\n",
    "\n",
    "dataset = fetch_dataset(d_name, verbose=False)\n",
    "G, y = dataset.data, dataset.target\n",
    "WL_mean_acc_list = []\n",
    "WL_std_list =[]\n",
    "\n",
    "for current_h in range(1, h+1):\n",
    "    wlk = WLkernel(current_h)\n",
    "    D = wlk.fit_transform(G)\n",
    "    print(f\"WL iteration {current_h}. \", end='')\n",
    "    mean_acc, std = evaluate_maximum_performance(D, y)\n",
    "    WL_mean_acc_list.append(mean_acc)\n",
    "    WL_std_list.append(std)"
   ]
  },
  {
   "cell_type": "markdown",
   "metadata": {},
   "source": [
    "# WWL kernel"
   ]
  },
  {
   "cell_type": "code",
   "execution_count": 8,
   "metadata": {},
   "outputs": [
    {
     "name": "stdout",
     "output_type": "stream",
     "text": [
      "Iteration 0: done.\n",
      "Iteration 1: done.\n",
      "Iteration 2: done.\n",
      "Iteration 3: done.\n",
      "Iteration 4: done.\n",
      "Iteration 5: done.\n",
      "Iteration 6: done.\n",
      "Iteration 7: done.\n",
      "WL iteration 1. Accuracy: 91.12 +- 0.78\n",
      "WL iteration 2. Accuracy: 89.95 +- 0.83\n",
      "WL iteration 3. Accuracy: 89.26 +- 0.64\n",
      "WL iteration 4. Accuracy: 88.82 +- 0.91\n",
      "WL iteration 5. Accuracy: 88.24 +- 0.69\n",
      "WL iteration 6. Accuracy: 88.18 +- 1.01\n",
      "WL iteration 7. Accuracy: 87.39 +- 1.08\n"
     ]
    }
   ],
   "source": [
    "from Kernels.WWL import *\n",
    "from Kernels.utilities import read_labels\n",
    "\n",
    "data_path = os.path.join(\"./Kernels/data_for_WWL\", d_name)\n",
    "label_sequences = compute_wl_embeddings_discrete(data_path, h)\n",
    "wasserstein_distances = compute_wasserstein_distance(label_sequences, h, sinkhorn=False, discrete=True)\n",
    "label_file = os.path.join(data_path, \"Labels.txt\")\n",
    "y = np.array(read_labels(label_file))\n",
    "WWL_mean_acc_list = []\n",
    "WWL_std_list =[]\n",
    "\n",
    "for current_h in range(1, h+1):\n",
    "    D = wasserstein_distances[current_h]\n",
    "    print(f\"WL iteration {current_h}. \", end='')\n",
    "    mean_acc, std = evaluate_maximum_performance(D, y, distance_method=True)\n",
    "    WWL_mean_acc_list.append(mean_acc)\n",
    "    WWL_std_list.append(std)"
   ]
  },
  {
   "cell_type": "markdown",
   "metadata": {},
   "source": [
    "# WWLS kernel (Ours)"
   ]
  },
  {
   "cell_type": "code",
   "execution_count": 17,
   "metadata": {},
   "outputs": [
    {
     "ename": "ValueError",
     "evalue": "not enough values to unpack (expected 3, got 2)",
     "output_type": "error",
     "traceback": [
      "\u001b[0;31m---------------------------------------------------------------------------\u001b[0m",
      "\u001b[0;31mValueError\u001b[0m                                Traceback (most recent call last)",
      "\u001b[0;32m/var/folders/v4/jxj4zvy96ng2xf1x5d0zjd7c0000gn/T/ipykernel_51048/3641056207.py\u001b[0m in \u001b[0;36m<module>\u001b[0;34m\u001b[0m\n\u001b[1;32m      4\u001b[0m \u001b[0;32mfrom\u001b[0m \u001b[0mgraph_data\u001b[0m \u001b[0;32mimport\u001b[0m \u001b[0mGraph\u001b[0m\u001b[0;34m\u001b[0m\u001b[0;34m\u001b[0m\u001b[0m\n\u001b[1;32m      5\u001b[0m \u001b[0;34m\u001b[0m\u001b[0m\n\u001b[0;32m----> 6\u001b[0;31m \u001b[0mdataset\u001b[0m \u001b[0;34m=\u001b[0m \u001b[0mload_dataset\u001b[0m\u001b[0;34m(\u001b[0m\u001b[0md_name\u001b[0m\u001b[0;34m)\u001b[0m\u001b[0;34m\u001b[0m\u001b[0;34m\u001b[0m\u001b[0m\n\u001b[0m\u001b[1;32m      7\u001b[0m \u001b[0mgraphs\u001b[0m \u001b[0;34m=\u001b[0m \u001b[0;34m[\u001b[0m\u001b[0mGraph\u001b[0m\u001b[0;34m(\u001b[0m\u001b[0mdata\u001b[0m\u001b[0;34m)\u001b[0m \u001b[0;32mfor\u001b[0m \u001b[0mdata\u001b[0m \u001b[0;32min\u001b[0m \u001b[0mdataset\u001b[0m\u001b[0;34m]\u001b[0m\u001b[0;34m\u001b[0m\u001b[0;34m\u001b[0m\u001b[0m\n\u001b[1;32m      8\u001b[0m \u001b[0my\u001b[0m \u001b[0;34m=\u001b[0m \u001b[0;34m[\u001b[0m\u001b[0mgraph\u001b[0m\u001b[0;34m.\u001b[0m\u001b[0my\u001b[0m \u001b[0;32mfor\u001b[0m \u001b[0mgraph\u001b[0m \u001b[0;32min\u001b[0m \u001b[0mgraphs\u001b[0m\u001b[0;34m]\u001b[0m\u001b[0;34m\u001b[0m\u001b[0;34m\u001b[0m\u001b[0m\n",
      "\u001b[0;32m~/Desktop/CIKM22/code_0511/WWLS/dataset_loader.py\u001b[0m in \u001b[0;36mload_dataset\u001b[0;34m(name, cleaned, shuffle)\u001b[0m\n\u001b[1;32m     26\u001b[0m \u001b[0;32mdef\u001b[0m \u001b[0mload_dataset\u001b[0m\u001b[0;34m(\u001b[0m\u001b[0mname\u001b[0m\u001b[0;34m,\u001b[0m \u001b[0mcleaned\u001b[0m\u001b[0;34m=\u001b[0m\u001b[0;32mFalse\u001b[0m\u001b[0;34m,\u001b[0m \u001b[0mshuffle\u001b[0m\u001b[0;34m=\u001b[0m\u001b[0;32mFalse\u001b[0m\u001b[0;34m)\u001b[0m\u001b[0;34m:\u001b[0m\u001b[0;34m\u001b[0m\u001b[0;34m\u001b[0m\u001b[0m\n\u001b[1;32m     27\u001b[0m     \u001b[0mpath\u001b[0m \u001b[0;34m=\u001b[0m \u001b[0mosp\u001b[0m\u001b[0;34m.\u001b[0m\u001b[0mjoin\u001b[0m\u001b[0;34m(\u001b[0m\u001b[0mosp\u001b[0m\u001b[0;34m.\u001b[0m\u001b[0mdirname\u001b[0m\u001b[0;34m(\u001b[0m\u001b[0mosp\u001b[0m\u001b[0;34m.\u001b[0m\u001b[0mrealpath\u001b[0m\u001b[0;34m(\u001b[0m\u001b[0m__file__\u001b[0m\u001b[0;34m)\u001b[0m\u001b[0;34m)\u001b[0m\u001b[0;34m,\u001b[0m \u001b[0;34m'..'\u001b[0m\u001b[0;34m,\u001b[0m \u001b[0;34m'data'\u001b[0m\u001b[0;34m,\u001b[0m \u001b[0;34m'TU'\u001b[0m\u001b[0;34m)\u001b[0m\u001b[0;34m\u001b[0m\u001b[0;34m\u001b[0m\u001b[0m\n\u001b[0;32m---> 28\u001b[0;31m     \u001b[0mdataset\u001b[0m \u001b[0;34m=\u001b[0m \u001b[0mTUDataset\u001b[0m\u001b[0;34m(\u001b[0m\u001b[0mroot\u001b[0m\u001b[0;34m=\u001b[0m\u001b[0mpath\u001b[0m\u001b[0;34m,\u001b[0m \u001b[0mname\u001b[0m\u001b[0;34m=\u001b[0m\u001b[0mname\u001b[0m\u001b[0;34m,\u001b[0m \u001b[0mcleaned\u001b[0m\u001b[0;34m=\u001b[0m\u001b[0mcleaned\u001b[0m\u001b[0;34m)\u001b[0m\u001b[0;34m\u001b[0m\u001b[0;34m\u001b[0m\u001b[0m\n\u001b[0m\u001b[1;32m     29\u001b[0m     \u001b[0mdataset\u001b[0m\u001b[0;34m.\u001b[0m\u001b[0mdata\u001b[0m\u001b[0;34m.\u001b[0m\u001b[0medge_attr\u001b[0m \u001b[0;34m=\u001b[0m \u001b[0;32mNone\u001b[0m\u001b[0;34m\u001b[0m\u001b[0;34m\u001b[0m\u001b[0m\n\u001b[1;32m     30\u001b[0m \u001b[0;34m\u001b[0m\u001b[0m\n",
      "\u001b[0;32m~/.pyenv/versions/3.7.5/lib/python3.7/site-packages/torch_geometric/datasets/tu_dataset.py\u001b[0m in \u001b[0;36m__init__\u001b[0;34m(self, root, name, transform, pre_transform, pre_filter, use_node_attr, use_edge_attr, cleaned)\u001b[0m\n\u001b[1;32m    130\u001b[0m             \u001b[0mself\u001b[0m\u001b[0;34m.\u001b[0m\u001b[0mdata\u001b[0m\u001b[0;34m.\u001b[0m\u001b[0medge_attr\u001b[0m \u001b[0;34m=\u001b[0m \u001b[0mself\u001b[0m\u001b[0;34m.\u001b[0m\u001b[0mdata\u001b[0m\u001b[0;34m.\u001b[0m\u001b[0medge_attr\u001b[0m\u001b[0;34m[\u001b[0m\u001b[0;34m:\u001b[0m\u001b[0;34m,\u001b[0m \u001b[0mnum_edge_attributes\u001b[0m\u001b[0;34m:\u001b[0m\u001b[0;34m]\u001b[0m\u001b[0;34m\u001b[0m\u001b[0;34m\u001b[0m\u001b[0m\n\u001b[1;32m    131\u001b[0m \u001b[0;34m\u001b[0m\u001b[0m\n\u001b[0;32m--> 132\u001b[0;31m     \u001b[0;34m@\u001b[0m\u001b[0mproperty\u001b[0m\u001b[0;34m\u001b[0m\u001b[0;34m\u001b[0m\u001b[0m\n\u001b[0m\u001b[1;32m    133\u001b[0m     \u001b[0;32mdef\u001b[0m \u001b[0mraw_dir\u001b[0m\u001b[0;34m(\u001b[0m\u001b[0mself\u001b[0m\u001b[0;34m)\u001b[0m \u001b[0;34m->\u001b[0m \u001b[0mstr\u001b[0m\u001b[0;34m:\u001b[0m\u001b[0;34m\u001b[0m\u001b[0;34m\u001b[0m\u001b[0m\n\u001b[1;32m    134\u001b[0m         \u001b[0mname\u001b[0m \u001b[0;34m=\u001b[0m \u001b[0;34mf'raw{\"_cleaned\" if self.cleaned else \"\"}'\u001b[0m\u001b[0;34m\u001b[0m\u001b[0;34m\u001b[0m\u001b[0m\n",
      "\u001b[0;31mValueError\u001b[0m: not enough values to unpack (expected 3, got 2)"
     ]
    }
   ],
   "source": [
    "sys.path.append(\"../WWLS\")\n",
    "from WWLS import WWLS\n",
    "from dataset_loader import load_dataset\n",
    "from graph_data import Graph\n",
    "\n",
    "dataset = load_dataset(d_name)\n",
    "graphs = [Graph(data) for data in dataset]\n",
    "y = [graph.y for graph in graphs]\n",
    "WWLS_mean_acc_list = []\n",
    "WWLS_std_list =[]\n",
    "\n",
    "for current_h in range(1, h+1):\n",
    "    wwls = WWLS(current_h)\n",
    "    # graph level features\n",
    "    gf = [wwls.embedding(i, graph) for i, graph in enumerate(tqdm(graphs, desc='Building WL subtrees'))] \n",
    "    sparse_gf = wwls.to_sparse(gf)\n",
    "    D = wwls.compute_distance_matrices(sparse_gf, len(y))\n",
    "    print(f\"WL iteration {current_h}. \", end='')\n",
    "    mean_acc, std = evaluate_maximum_performance(D, y, distance_method=True)\n",
    "    WWLS_mean_acc_list.append(mean_acc)\n",
    "    WWLS_std_list.append(std)"
   ]
  },
  {
   "cell_type": "markdown",
   "metadata": {},
   "source": [
    "# Visualize results"
   ]
  },
  {
   "cell_type": "code",
   "execution_count": null,
   "metadata": {},
   "outputs": [],
   "source": [
    "\n",
    "import seaborn as sns\n",
    "import matplotlib.pyplot as plt\n",
    "\n",
    "fig, ax = plt.subplots()\n",
    "clrs = sns.color_palette(\"husl\", 3)\n",
    "\n",
    "mean_list = [WWLS_mean_acc_list, WWL_mean_acc_list, WL_mean_acc_list]\n",
    "std_lit = [WWLS_std_list, WL_std_list, WWL_std_list]\n",
    "label_list = [\"WWLS\", \"WWL\", \"WL\"]\n",
    "\n",
    "with sns.axes_style(\"darkgrid\"):\n",
    "    WL_iterations = list(range(1,h+1))\n",
    "    for i in range(3):\n",
    "        x = np.array(mean_list[i])\n",
    "        std = np.array(std_lit[i])\n",
    "        ax.plot(WL_iterations, x, label=label_list[i], color=clrs[i])\n",
    "        ax.fill_between(WL_iterations, x-std, x+std ,alpha=0.3, facecolor=clrs[i])\n",
    "    ax.legend()\n"
   ]
  },
  {
   "cell_type": "code",
   "execution_count": null,
   "metadata": {},
   "outputs": [],
   "source": []
  },
  {
   "cell_type": "code",
   "execution_count": null,
   "metadata": {},
   "outputs": [],
   "source": []
  },
  {
   "cell_type": "code",
   "execution_count": null,
   "metadata": {},
   "outputs": [],
   "source": []
  }
 ],
 "metadata": {
  "interpreter": {
   "hash": "e277dd7ad831b1ec8a9e9ff75e89463f95c109f221f84ed433f5f3ddb9624ff8"
  },
  "kernelspec": {
   "display_name": "Python 3 (ipykernel)",
   "language": "python",
   "name": "python3"
  },
  "language_info": {
   "codemirror_mode": {
    "name": "ipython",
    "version": 3
   },
   "file_extension": ".py",
   "mimetype": "text/x-python",
   "name": "python",
   "nbconvert_exporter": "python",
   "pygments_lexer": "ipython3",
   "version": "3.7.5"
  }
 },
 "nbformat": 4,
 "nbformat_minor": 4
}
